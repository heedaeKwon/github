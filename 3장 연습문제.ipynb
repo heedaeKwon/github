{
 "cells": [
  {
   "cell_type": "code",
   "execution_count": 1,
   "id": "above-report",
   "metadata": {},
   "outputs": [
    {
     "data": {
      "text/plain": [
       "3600"
      ]
     },
     "execution_count": 1,
     "metadata": {},
     "output_type": "execute_result"
    }
   ],
   "source": [
    "# 3.1 1시간은 몇 초인가? 대화식 인터프리터를 계산기로 사용해서 1시간(60분)에 1분(60)초를 곱한다.\n",
    "60*60"
   ]
  },
  {
   "cell_type": "code",
   "execution_count": 2,
   "id": "earlier-yellow",
   "metadata": {},
   "outputs": [
    {
     "data": {
      "text/plain": [
       "3600"
      ]
     },
     "execution_count": 2,
     "metadata": {},
     "output_type": "execute_result"
    }
   ],
   "source": [
    "# 3.2 계산한 결과를 seconds_per_hour 변수에 저장해보자\n",
    "seconds_per_hour = 60*60\n",
    "seconds_per_hour"
   ]
  },
  {
   "cell_type": "code",
   "execution_count": 3,
   "id": "hundred-flush",
   "metadata": {},
   "outputs": [
    {
     "data": {
      "text/plain": [
       "86400"
      ]
     },
     "execution_count": 3,
     "metadata": {},
     "output_type": "execute_result"
    }
   ],
   "source": [
    "# 3.3 1일은 몇 초인가? seconds_per_hour변수를 사용해보자\n",
    "seconds_per_hour =60*60\n",
    "seconds_per_hour*24"
   ]
  },
  {
   "cell_type": "code",
   "execution_count": 4,
   "id": "early-relationship",
   "metadata": {},
   "outputs": [
    {
     "data": {
      "text/plain": [
       "86400"
      ]
     },
     "execution_count": 4,
     "metadata": {},
     "output_type": "execute_result"
    }
   ],
   "source": [
    "#3.4 계산한 결과를 seconds_per_day 변수에 저장해보자\n",
    "seconds_per_hour = 60*60\n",
    "seconds_per_day = seconds_per_hour*24\n",
    "seconds_per_day"
   ]
  },
  {
   "cell_type": "code",
   "execution_count": 5,
   "id": "experienced-density",
   "metadata": {},
   "outputs": [
    {
     "data": {
      "text/plain": [
       "24.0"
      ]
     },
     "execution_count": 5,
     "metadata": {},
     "output_type": "execute_result"
    }
   ],
   "source": [
    "#3.5 부동소수점(/) 나눗셈을 사용해서 seconds_per_day를 seconds_per_hour로 나누어보자\n",
    "seconds_per_hour = 60*60\n",
    "seconds_per_day = seconds_per_hour*24\n",
    "seconds_per_day/seconds_per_hour"
   ]
  },
  {
   "cell_type": "code",
   "execution_count": 7,
   "id": "acting-nevada",
   "metadata": {},
   "outputs": [
    {
     "data": {
      "text/plain": [
       "24"
      ]
     },
     "execution_count": 7,
     "metadata": {},
     "output_type": "execute_result"
    }
   ],
   "source": [
    "#3.6 정수(//) 나눗셈을 사용해서 seconds_per_day를 seconds_per_hour로 나눈다 3.5 문제 결과에서 본 .0 부분을 제외하고 결과가같은가?\n",
    "seconds_per_hour = 60*60\n",
    "seconds_per_day = seconds_per_hour*24\n",
    "seconds_per_day//seconds_per_hour"
   ]
  },
  {
   "cell_type": "code",
   "execution_count": null,
   "id": "going-construction",
   "metadata": {},
   "outputs": [],
   "source": [
    "#확인결과 .0을 제외하고 결과값이 같다"
   ]
  }
 ],
 "metadata": {
  "kernelspec": {
   "display_name": "Python 3",
   "language": "python",
   "name": "python3"
  },
  "language_info": {
   "codemirror_mode": {
    "name": "ipython",
    "version": 3
   },
   "file_extension": ".py",
   "mimetype": "text/x-python",
   "name": "python",
   "nbconvert_exporter": "python",
   "pygments_lexer": "ipython3",
   "version": "3.9.1"
  }
 },
 "nbformat": 4,
 "nbformat_minor": 5
}
